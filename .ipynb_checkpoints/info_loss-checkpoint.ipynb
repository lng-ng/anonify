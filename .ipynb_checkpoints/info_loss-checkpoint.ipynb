{
 "cells": [
  {
   "cell_type": "code",
   "execution_count": null,
   "id": "80a5e393-10e7-4b04-bcb5-d933da01035e",
   "metadata": {},
   "outputs": [],
   "source": [
    "%load_ext autoreload\n",
    "%autoreload 2"
   ]
  },
  {
   "cell_type": "markdown",
   "id": "9602d23d-7881-4700-8994-b479f94d357e",
   "metadata": {},
   "source": [
    "## Environment Setup (for Colab)"
   ]
  },
  {
   "cell_type": "code",
   "execution_count": null,
   "id": "90be177c-1025-45a4-b639-1d2cdfafcf93",
   "metadata": {},
   "outputs": [],
   "source": [
    "import os\n",
    "from datetime import datetime\n",
    "\n",
    "os.chdir('/content')\n",
    "current_time = datetime.utcnow().isoformat().replace(':', '_')\n",
    "os.makedirs(os.path.join(current_time))\n",
    "os.chdir(f'./{current_time}')\n",
    "WORKSPACE = 'random_sampling'\n",
    "\n",
    "!git clone https://github.com/lng-ng/random_sampling.git\n",
    "\n",
    "os.chdir(f'./{WORKSPACE}')\n",
    "\n",
    "!pip install -r requirements.txt"
   ]
  },
  {
   "cell_type": "markdown",
   "id": "5cca1416-83c6-49ed-885a-b8b125e0abef",
   "metadata": {},
   "source": [
    "## Download required data for the experiment"
   ]
  },
  {
   "cell_type": "code",
   "execution_count": null,
   "id": "c204008c-15f2-4ff6-a9e7-de9aac77ca38",
   "metadata": {},
   "outputs": [],
   "source": [
    "import gdown\n",
    "data_folder = os.path.join(\"expr1_data\")\n",
    "drive_folderid = \"1fHXUIEKT8UgFtxzzMspF1V3lGg2yPHcR\"\n",
    "gdown.download_folder(id=drive_folderid)"
   ]
  },
  {
   "cell_type": "markdown",
   "id": "55bf1d09-55de-4fbb-9a76-379acf6c1d0d",
   "metadata": {},
   "source": [
    "## Run the experiment"
   ]
  },
  {
   "cell_type": "code",
   "execution_count": null,
   "id": "c85e5e32-a654-43e4-8e9f-3dd57b38c95c",
   "metadata": {},
   "outputs": [],
   "source": [
    "import numpy as np\n",
    "import pandas as pd\n",
    "import os\n",
    "import matplotlib.pyplot as plt\n",
    "\n",
    "os.chdir(\"./kanonymity\")\n",
    "from datasets.categorical import DATASET_ATTRIBUTES_DICT\n",
    "from basic_mondrian.utils.read_adult_data import read_tree\n",
    "\n",
    "import clustering_based.clustering_based_k_anon as cbka\n",
    "\n"
   ]
  },
  {
   "cell_type": "code",
   "execution_count": null,
   "id": "992a05f0-3308-4294-b4fa-127384fab2e5",
   "metadata": {},
   "outputs": [],
   "source": [
    "def init(data_path):\n",
    "    dataset = 'diabetes'\n",
    "    # Generalization hierarchies path\n",
    "    gen_path = os.path.join('generalization', 'hierarchies', dataset, '')  # trailing /\n",
    "    # folder for all results\n",
    "    anon_folder = None\n",
    "    numeric_folder = None\n",
    "    df = pd.read_csv(data_path,delimiter=',')\n",
    "    ATT_NAMES = list(df.columns)\n",
    "    ATTRIBUTES_DICT = DATASET_ATTRIBUTES_DICT[dataset]\n",
    "    QI_INDEX = [i for i,attr in enumerate(ATT_NAMES) if ATTRIBUTES_DICT[attr][0]]\n",
    "    IS_CAT = [ATTRIBUTES_DICT[ATT_NAMES[idx]][1] for idx in QI_INDEX]\n",
    "    SA_INDEX = [index for index in range(len(ATT_NAMES)) if index not in QI_INDEX]\n",
    "    SA_NAMES = [ATT_NAMES[i] for i in SA_INDEX]\n",
    "    QID_NAMES = [ATT_NAMES[i] for i in QI_INDEX]\n",
    "    ATT_TREES = read_tree(gen_path, numeric_folder, dataset, ATT_NAMES, QI_INDEX, IS_CAT)\n",
    "    #raw_data, header = read_raw_fromdf(df, numeric_folder, dataset, QI_INDEX, IS_CAT)\n",
    "    #print(ATT_NAMES, ATTRIBUTES_DICT, QI_INDEX, IS_CAT, SA_INDEX)\n",
    "    cbka.init(ATT_TREES, df, SA_INDEX, len(QI_INDEX))\n",
    "    return df"
   ]
  },
  {
   "cell_type": "code",
   "execution_count": null,
   "id": "2e98c153-010a-4010-b8fc-d7bd8fb1b067",
   "metadata": {},
   "outputs": [],
   "source": [
    "SA_NAMES = ['hypertension', 'heart_disease', 'smoking_history', 'HbA1c_level', 'blood_glucose_level', 'diabetes']\n",
    "QID_NAMES = ['gender', 'age', 'bmi']\n",
    "\n",
    "res_df = pd.DataFrame(columns=['Algorithm', 'k', 'NCP'])\n",
    "\n",
    "ks = [50,100,150,200,250,300,350,400,450,500]\n",
    "methods = ['arx', 'mondrian', 'oka']\n",
    "for m in methods:\n",
    "    for k in ks:\n",
    "        data_path = os.path.join(\"../expr1_data\", f\"{m}\", f\"{k}\")\n",
    "        if m == \"arx\":\n",
    "            data_path = os.path.join(data_path, \"diabetes-anonymized.csv\")\n",
    "        else:\n",
    "            data_path = os.path.join(data_path, f\"diabetes_anonymized_{k}_0.csv\")\n",
    "        df = init(data_path)\n",
    "        ncp = 0\n",
    "        grp = df.groupby(QID_NAMES).size().to_frame(name='size').reset_index()\n",
    "        grp['ncp'] = grp.apply(lambda x: cbka.NCP(x[QID_NAMES].tolist()) * x['size'], axis='columns')\n",
    "        ncp += grp['ncp'].sum()\n",
    "        ncp /= len(QID_NAMES)\n",
    "        ncp /= len(df)\n",
    "        ncp *= 100\n",
    "        res_df.loc[len(res_df)] = [m, k, ncp]"
   ]
  },
  {
   "cell_type": "code",
   "execution_count": null,
   "id": "9bba1be0-53c8-4457-9052-30024fb504e0",
   "metadata": {},
   "outputs": [],
   "source": [
    "res_df"
   ]
  },
  {
   "cell_type": "code",
   "execution_count": null,
   "id": "70dfdea9-82c0-44ff-b96c-4e2d3cc604d2",
   "metadata": {},
   "outputs": [],
   "source": [
    "arx = res_df[res_df['Algorithm'] == 'arx'].sort_values(by='k', ascending=True)\n",
    "mondrian = res_df[res_df['Algorithm'] == 'mondrian'].sort_values(by='k', ascending=True)\n",
    "oka = res_df[res_df['Algorithm'] == 'oka'].sort_values(by='k', ascending=True)\n",
    "\n",
    "# Data\n",
    "data = [\n",
    "    (\"ARX\", arx['k'], arx['NCP']),\n",
    "    (\"Mondrian\", mondrian['k'], mondrian['NCP']),\n",
    "    (\"OKA\", oka['k'], oka['NCP'])\n",
    "]\n",
    "\n",
    "# Create a line chart\n",
    "plt.figure(figsize=(10, 6))\n",
    "\n",
    "for algo, k_values, ncp_values in data:\n",
    "    plt.plot(k_values, ncp_values, label=algo)\n",
    "\n",
    "plt.xlabel(\"k values\", fontsize=12)\n",
    "plt.ylabel(\"NCP%\", fontsize=12)\n",
    "#plt.title(\"Comparison of Algorithms\")\n",
    "plt.xticks(fontsize=12)\n",
    "plt.yticks(fontsize=12)\n",
    "plt.legend(fontsize=12)\n",
    "plt.grid(True)\n",
    "plt.ylim(0, 80)\n",
    "plt.show()"
   ]
  },
  {
   "cell_type": "code",
   "execution_count": null,
   "id": "e0434897-3c01-4976-bb10-1d7d468bf55a",
   "metadata": {},
   "outputs": [],
   "source": [
    "# cleanup data folder\n",
    "import shutil\n",
    "shutil.rmtree(os.path.join(\"..\", data_folder)"
   ]
  }
 ],
 "metadata": {
  "kernelspec": {
   "display_name": "Python 3 (ipykernel)",
   "language": "python",
   "name": "python3"
  },
  "language_info": {
   "codemirror_mode": {
    "name": "ipython",
    "version": 3
   },
   "file_extension": ".py",
   "mimetype": "text/x-python",
   "name": "python",
   "nbconvert_exporter": "python",
   "pygments_lexer": "ipython3",
   "version": "3.11.4"
  }
 },
 "nbformat": 4,
 "nbformat_minor": 5
}
