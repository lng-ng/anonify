{
 "cells": [
  {
   "cell_type": "code",
   "execution_count": 35,
   "id": "bb66b661-bb51-4372-97c5-ec70540039f8",
   "metadata": {},
   "outputs": [],
   "source": [
    "import pandas as pd\n",
    "import os\n",
    "import numpy as np\n",
    "from sklearn.metrics import accuracy_score, f1_score, precision_score, recall_score, classification_report, confusion_matrix"
   ]
  },
  {
   "cell_type": "code",
   "execution_count": 36,
   "id": "0f24b87f-21f5-4b60-bc11-bc82921395d4",
   "metadata": {},
   "outputs": [],
   "source": [
    "SA_NAMES = ['hypertension', 'heart_disease', 'smoking_history', 'HbA1c_level', 'blood_glucose_level', 'diabetes']\n",
    "QID_NAMES = ['gender', 'age', 'bmi']"
   ]
  },
  {
   "cell_type": "markdown",
   "id": "47ca193a-4362-4c66-ab95-e90da1138361",
   "metadata": {},
   "source": [
    "# Load Dataset"
   ]
  },
  {
   "cell_type": "code",
   "execution_count": 37,
   "id": "237176e7-e06b-4820-a39e-089a1e6b8c50",
   "metadata": {},
   "outputs": [],
   "source": [
    "#load_path = os.path.join('kanonymity', 'results_part1_260923', 'arx', '250', 'diabetes-anonymized.csv')\n",
    "#load_path = os.path.join('kanonymity','datasets','diabetes','preprocessed_diabetes.csv')\n",
    "k = 50\n",
    "p = 0\n",
    "# load_path = os.path.join('all_results', 'raw_data', f'k{k}', f'{p}', f'diabetes-anonymized.csv')\n",
    "# save_path = os.path.join('all_results', 'raw_data', 'classifiers_raw', f'k{k}', f'{p}',f'diabetes-anonymized_classifiers.csv')\n",
    "load_path = os.path.join('all_results', 'raw_data','original_dataset', f'preprocessed_diabetes.csv')\n",
    "save_path = os.path.join('all_results', 'raw_data','classifiers_raw','original_dataset',f'preprocessed_diabetes_classifiers.csv')\n",
    "df = pd.read_csv(load_path)\n",
    "df = df.drop(columns='RID')\n",
    "#df = df.drop(columns=SA_NAMES[:-1] + ['RID'])\n"
   ]
  },
  {
   "cell_type": "markdown",
   "id": "f282b913-13cb-431e-bdff-c2244ceec8a0",
   "metadata": {},
   "source": [
    "# Label Encode Dataset"
   ]
  },
  {
   "cell_type": "code",
   "execution_count": 4,
   "id": "f0411969-1802-438c-a5e2-26c81dc38162",
   "metadata": {},
   "outputs": [],
   "source": [
    "# to_encode = ['gender', 'age', 'bmi']\n",
    "# #to_encode = ['gender']\n",
    "# for attr in to_encode:\n",
    "#     #uniques = df[attr].unique()\n",
    "#     #df[attr] = df[attr].replace(uniques, np.arange(len(uniques)))\n",
    "    \n"
   ]
  },
  {
   "cell_type": "code",
   "execution_count": 5,
   "id": "94787728-6142-40f1-bffc-ad564789c8a4",
   "metadata": {},
   "outputs": [],
   "source": [
    "def interval_transform(x):\n",
    "    try:\n",
    "        return float(x)\n",
    "    except ValueError:\n",
    "        if x == '*': return 0\n",
    "        interval_vals = x.split('-')\n",
    "        return (float(interval_vals[0]) + float(interval_vals[1])) * 0.5\n",
    "        \n",
    "        "
   ]
  },
  {
   "cell_type": "code",
   "execution_count": 6,
   "id": "25d92582-0f22-4d7d-92c8-69ed2c0e2057",
   "metadata": {},
   "outputs": [],
   "source": [
    "gender_encoder = [['Female','Male','*','Other'], np.arange(4)]\n",
    "smoking_encoder = [['never','No Info','current','not current','ever','former'], np.arange(6)]\n",
    "df['gender'] = df['gender'].replace(gender_encoder[0], gender_encoder[1])\n",
    "df['smoking_history'] = df['smoking_history'].replace(smoking_encoder[0], smoking_encoder[1])"
   ]
  },
  {
   "cell_type": "code",
   "execution_count": 7,
   "id": "32b9a858-8b4f-48d5-9328-9e9fc3ab0726",
   "metadata": {},
   "outputs": [],
   "source": [
    "numerical_encode = ['age','bmi']\n",
    "for attr in numerical_encode:\n",
    "    df[attr] = df[attr].apply(interval_transform)"
   ]
  },
  {
   "cell_type": "code",
   "execution_count": 8,
   "id": "59b79af6-6ef7-4d36-831c-7ce84acbdf80",
   "metadata": {},
   "outputs": [
    {
     "data": {
      "text/plain": [
       "diabetes\n",
       "0    91500\n",
       "1     8500\n",
       "Name: count, dtype: int64"
      ]
     },
     "execution_count": 8,
     "metadata": {},
     "output_type": "execute_result"
    }
   ],
   "source": [
    "df['diabetes'].value_counts()"
   ]
  },
  {
   "cell_type": "markdown",
   "id": "cde1b8cb-9121-455b-9bcb-a5fa95ccbacf",
   "metadata": {},
   "source": [
    "# Split Train/Test"
   ]
  },
  {
   "cell_type": "code",
   "execution_count": 9,
   "id": "75451ae6-5614-4323-bdf2-8b16aab75c1e",
   "metadata": {},
   "outputs": [],
   "source": [
    "from sklearn.model_selection import train_test_split"
   ]
  },
  {
   "cell_type": "code",
   "execution_count": 10,
   "id": "3bc4e6b5-b89a-42ea-98d5-b1e6a14e2104",
   "metadata": {},
   "outputs": [],
   "source": [
    "seed = 35\n",
    "test_size = 0.25"
   ]
  },
  {
   "cell_type": "code",
   "execution_count": 11,
   "id": "1193402c-4c5b-432f-b3ff-380fc8ab67c7",
   "metadata": {},
   "outputs": [],
   "source": [
    "x = df.drop(columns=['diabetes'])\n",
    "y = df['diabetes']\n",
    "x_train, x_test, y_train, y_test = train_test_split(x,y, test_size=test_size, random_state=seed)"
   ]
  },
  {
   "cell_type": "code",
   "execution_count": 12,
   "id": "853b896c-ccb1-4696-9852-0f1f2d470529",
   "metadata": {},
   "outputs": [],
   "source": [
    "res_df = pd.DataFrame(columns=['Accuracy', 'Precision', 'Recall', 'F1 Score'])"
   ]
  },
  {
   "cell_type": "code",
   "execution_count": 13,
   "id": "547b7ab0-5c0a-4abb-a7e6-b7efa1f55e85",
   "metadata": {},
   "outputs": [],
   "source": [
    "def get_metrics(y_test, y_pred):\n",
    "    f1 = f1_score(y_test, y_pred, average=\"weighted\")*100\n",
    "    prec = precision_score(y_test, y_pred, average=\"weighted\")*100\n",
    "    rec = recall_score(y_test, y_pred, average=\"weighted\")*100\n",
    "    acc = accuracy_score(y_test, y_pred)*100\n",
    "    return acc, prec, rec, f1"
   ]
  },
  {
   "cell_type": "code",
   "execution_count": 14,
   "id": "87022e49-4d22-400e-9b79-1b610b87dc39",
   "metadata": {},
   "outputs": [
    {
     "data": {
      "text/plain": [
       "array([0, 1], dtype=int64)"
      ]
     },
     "execution_count": 14,
     "metadata": {},
     "output_type": "execute_result"
    }
   ],
   "source": [
    "np.unique(y_test)"
   ]
  },
  {
   "cell_type": "markdown",
   "id": "3f26b9bf-bf7d-4338-b59a-fc3cd6b009ea",
   "metadata": {},
   "source": [
    "# Naive Bayes"
   ]
  },
  {
   "cell_type": "code",
   "execution_count": 15,
   "id": "c3eb77c7-6a1c-4bf9-a983-54f540829340",
   "metadata": {},
   "outputs": [],
   "source": [
    "from sklearn.naive_bayes import GaussianNB"
   ]
  },
  {
   "cell_type": "code",
   "execution_count": 16,
   "id": "01588e62-81c4-4bf5-997d-15641b30596a",
   "metadata": {},
   "outputs": [],
   "source": [
    "gnb = GaussianNB()\n",
    "y_pred = gnb.fit(x_train, y_train).predict(x_test)\n",
    "res_df.loc['Naive Bayes'] = get_metrics(y_test, y_pred)"
   ]
  },
  {
   "cell_type": "code",
   "execution_count": 17,
   "id": "96f6ead3-e1ad-4aac-a56c-64fa0b2c43c5",
   "metadata": {},
   "outputs": [
    {
     "data": {
      "text/html": [
       "<div>\n",
       "<style scoped>\n",
       "    .dataframe tbody tr th:only-of-type {\n",
       "        vertical-align: middle;\n",
       "    }\n",
       "\n",
       "    .dataframe tbody tr th {\n",
       "        vertical-align: top;\n",
       "    }\n",
       "\n",
       "    .dataframe thead th {\n",
       "        text-align: right;\n",
       "    }\n",
       "</style>\n",
       "<table border=\"1\" class=\"dataframe\">\n",
       "  <thead>\n",
       "    <tr style=\"text-align: right;\">\n",
       "      <th></th>\n",
       "      <th>Accuracy</th>\n",
       "      <th>Precision</th>\n",
       "      <th>Recall</th>\n",
       "      <th>F1 Score</th>\n",
       "    </tr>\n",
       "  </thead>\n",
       "  <tbody>\n",
       "    <tr>\n",
       "      <th>Naive Bayes</th>\n",
       "      <td>89.932</td>\n",
       "      <td>92.185213</td>\n",
       "      <td>89.932</td>\n",
       "      <td>90.83117</td>\n",
       "    </tr>\n",
       "  </tbody>\n",
       "</table>\n",
       "</div>"
      ],
      "text/plain": [
       "             Accuracy  Precision  Recall  F1 Score\n",
       "Naive Bayes    89.932  92.185213  89.932  90.83117"
      ]
     },
     "metadata": {},
     "output_type": "display_data"
    }
   ],
   "source": [
    "display(res_df)"
   ]
  },
  {
   "cell_type": "markdown",
   "id": "a0459b41-319c-407d-b4bd-4f0bb9aca6b0",
   "metadata": {},
   "source": [
    "# Decision Tree\n"
   ]
  },
  {
   "cell_type": "code",
   "execution_count": 18,
   "id": "0b101b66-ef20-40c3-92e2-1812509c9484",
   "metadata": {},
   "outputs": [],
   "source": [
    "from sklearn import tree"
   ]
  },
  {
   "cell_type": "code",
   "execution_count": 19,
   "id": "5b0165ac-5b22-42b8-95b8-1fc77bc93309",
   "metadata": {},
   "outputs": [],
   "source": [
    "clftree = tree.DecisionTreeClassifier()\n",
    "y_pred = clftree.fit(x_train,y_train).predict(x_test)\n",
    "res_df.loc['Decision Tree'] = get_metrics(y_test, y_pred)"
   ]
  },
  {
   "cell_type": "code",
   "execution_count": 20,
   "id": "3863ce9e-850a-401b-8677-e655e1242b4e",
   "metadata": {},
   "outputs": [
    {
     "data": {
      "text/html": [
       "<div>\n",
       "<style scoped>\n",
       "    .dataframe tbody tr th:only-of-type {\n",
       "        vertical-align: middle;\n",
       "    }\n",
       "\n",
       "    .dataframe tbody tr th {\n",
       "        vertical-align: top;\n",
       "    }\n",
       "\n",
       "    .dataframe thead th {\n",
       "        text-align: right;\n",
       "    }\n",
       "</style>\n",
       "<table border=\"1\" class=\"dataframe\">\n",
       "  <thead>\n",
       "    <tr style=\"text-align: right;\">\n",
       "      <th></th>\n",
       "      <th>Accuracy</th>\n",
       "      <th>Precision</th>\n",
       "      <th>Recall</th>\n",
       "      <th>F1 Score</th>\n",
       "    </tr>\n",
       "  </thead>\n",
       "  <tbody>\n",
       "    <tr>\n",
       "      <th>Naive Bayes</th>\n",
       "      <td>89.932</td>\n",
       "      <td>92.185213</td>\n",
       "      <td>89.932</td>\n",
       "      <td>90.831170</td>\n",
       "    </tr>\n",
       "    <tr>\n",
       "      <th>Decision Tree</th>\n",
       "      <td>95.044</td>\n",
       "      <td>95.204398</td>\n",
       "      <td>95.044</td>\n",
       "      <td>95.117153</td>\n",
       "    </tr>\n",
       "  </tbody>\n",
       "</table>\n",
       "</div>"
      ],
      "text/plain": [
       "               Accuracy  Precision  Recall   F1 Score\n",
       "Naive Bayes      89.932  92.185213  89.932  90.831170\n",
       "Decision Tree    95.044  95.204398  95.044  95.117153"
      ]
     },
     "execution_count": 20,
     "metadata": {},
     "output_type": "execute_result"
    }
   ],
   "source": [
    "res_df"
   ]
  },
  {
   "cell_type": "code",
   "execution_count": 21,
   "id": "37217aa2-305c-47a1-bb97-0e79fba85389",
   "metadata": {},
   "outputs": [
    {
     "data": {
      "text/plain": [
       "array([0, 1], dtype=int64)"
      ]
     },
     "execution_count": 21,
     "metadata": {},
     "output_type": "execute_result"
    }
   ],
   "source": [
    "np.unique(y_pred)\n"
   ]
  },
  {
   "cell_type": "markdown",
   "id": "5c3fa498-3b08-4628-be7c-8518c2ede613",
   "metadata": {},
   "source": [
    "# KNN"
   ]
  },
  {
   "cell_type": "code",
   "execution_count": 22,
   "id": "0a98a142-aa8e-47f1-be65-6cc4f7869093",
   "metadata": {},
   "outputs": [],
   "source": [
    "from sklearn.neighbors import KNeighborsClassifier"
   ]
  },
  {
   "cell_type": "code",
   "execution_count": 23,
   "id": "0bde8e0a-9716-4ae7-823e-273e4a942492",
   "metadata": {},
   "outputs": [],
   "source": [
    "knn = KNeighborsClassifier(n_neighbors = 5)\n",
    "y_pred = knn.fit(x_train,y_train).predict(x_test)\n",
    "res_df.loc['KNN'] = get_metrics(y_test, y_pred)"
   ]
  },
  {
   "cell_type": "markdown",
   "id": "bb03b9f3-38b5-403f-9c3e-da5762ae27d5",
   "metadata": {},
   "source": [
    "# SVM"
   ]
  },
  {
   "cell_type": "code",
   "execution_count": 24,
   "id": "df282fe8-9aec-47ea-adab-da33ffd43a1c",
   "metadata": {},
   "outputs": [],
   "source": [
    "from sklearn import svm"
   ]
  },
  {
   "cell_type": "code",
   "execution_count": 25,
   "id": "37ec1839-c01e-46c6-9258-a11123d6ccd7",
   "metadata": {},
   "outputs": [],
   "source": [
    "#rbf kernel\n",
    "rbfsvm = svm.SVC(kernel = \"rbf\")\n",
    "y_pred = rbfsvm.fit(x_train,y_train).predict(x_test)\n",
    "res_df.loc['SVM'] = get_metrics(y_test, y_pred)"
   ]
  },
  {
   "cell_type": "markdown",
   "id": "232c8725-75c2-45da-9838-b83bbfe27213",
   "metadata": {},
   "source": [
    "# RF"
   ]
  },
  {
   "cell_type": "code",
   "execution_count": 26,
   "id": "fcddbf6d-ecc3-4548-afaf-493cadd43a1a",
   "metadata": {},
   "outputs": [],
   "source": [
    "from sklearn.ensemble import RandomForestClassifier"
   ]
  },
  {
   "cell_type": "code",
   "execution_count": 27,
   "id": "80f26946-e483-4516-9f54-4f8d9a1dd9c1",
   "metadata": {},
   "outputs": [],
   "source": [
    "rftree=RandomForestClassifier(n_estimators=100)\n",
    "y_pred = rftree.fit(x_train,y_train).predict(x_test)\n",
    "res_df.loc['Random Forest'] = get_metrics(y_test, y_pred)"
   ]
  },
  {
   "cell_type": "markdown",
   "id": "feccf370-8596-4543-8ae9-2b1fcfea79ed",
   "metadata": {},
   "source": [
    "# LR"
   ]
  },
  {
   "cell_type": "code",
   "execution_count": 28,
   "id": "7f82d7fd-43c0-42cf-9bcf-78d76a155f6e",
   "metadata": {},
   "outputs": [],
   "source": [
    "from sklearn.linear_model import LogisticRegression"
   ]
  },
  {
   "cell_type": "code",
   "execution_count": 29,
   "id": "fb1d88d9-5eb6-4f79-9a5d-1dbb4648ff73",
   "metadata": {},
   "outputs": [
    {
     "name": "stderr",
     "output_type": "stream",
     "text": [
      "G:\\miniconda3\\envs\\tk\\Lib\\site-packages\\sklearn\\linear_model\\_logistic.py:460: ConvergenceWarning: lbfgs failed to converge (status=1):\n",
      "STOP: TOTAL NO. of ITERATIONS REACHED LIMIT.\n",
      "\n",
      "Increase the number of iterations (max_iter) or scale the data as shown in:\n",
      "    https://scikit-learn.org/stable/modules/preprocessing.html\n",
      "Please also refer to the documentation for alternative solver options:\n",
      "    https://scikit-learn.org/stable/modules/linear_model.html#logistic-regression\n",
      "  n_iter_i = _check_optimize_result(\n"
     ]
    }
   ],
   "source": [
    "logReg = LogisticRegression()\n",
    "y_pred = logReg.fit(x_train,y_train).predict(x_test)\n",
    "res_df.loc['Logistic Regression'] = get_metrics(y_test, y_pred)"
   ]
  },
  {
   "cell_type": "markdown",
   "id": "583a5539-924a-4a72-9921-be29e3af223e",
   "metadata": {},
   "source": [
    "# AdaBoost"
   ]
  },
  {
   "cell_type": "code",
   "execution_count": 30,
   "id": "bf38bcb5-e591-4a15-9913-01384857ff34",
   "metadata": {},
   "outputs": [],
   "source": [
    "from sklearn.ensemble import AdaBoostClassifier, GradientBoostingClassifier"
   ]
  },
  {
   "cell_type": "code",
   "execution_count": 31,
   "id": "3658aac9-c23b-4b5b-98e9-33b4a4400870",
   "metadata": {},
   "outputs": [],
   "source": [
    "adaboost= AdaBoostClassifier()\n",
    "y_pred = adaboost.fit(x_train,y_train).predict(x_test)\n",
    "res_df.loc['AdaBoost'] = get_metrics(y_test, y_pred)"
   ]
  },
  {
   "cell_type": "markdown",
   "id": "6a0324d9-72cb-4f85-aca1-c20e91459a72",
   "metadata": {},
   "source": [
    "# Bagging"
   ]
  },
  {
   "cell_type": "code",
   "execution_count": 32,
   "id": "c2f73760-2fab-4eed-bc5b-821a48a20e93",
   "metadata": {},
   "outputs": [],
   "source": [
    "from sklearn.ensemble import BaggingClassifier"
   ]
  },
  {
   "cell_type": "code",
   "execution_count": 33,
   "id": "a89a463f-5a96-4f8a-ba07-8d8cbc5e5098",
   "metadata": {},
   "outputs": [],
   "source": [
    "bg = BaggingClassifier()\n",
    "y_pred = bg.fit(x_train,y_train).predict(x_test)\n",
    "res_df.loc['Bagging'] = get_metrics(y_test, y_pred)"
   ]
  },
  {
   "cell_type": "code",
   "execution_count": 34,
   "id": "dede226a-7503-4fa4-a012-a318993633fe",
   "metadata": {},
   "outputs": [],
   "source": [
    "res_df.to_csv(save_path)"
   ]
  }
 ],
 "metadata": {
  "kernelspec": {
   "display_name": "Python 3 (ipykernel)",
   "language": "python",
   "name": "python3"
  },
  "language_info": {
   "codemirror_mode": {
    "name": "ipython",
    "version": 3
   },
   "file_extension": ".py",
   "mimetype": "text/x-python",
   "name": "python",
   "nbconvert_exporter": "python",
   "pygments_lexer": "ipython3",
   "version": "3.11.4"
  }
 },
 "nbformat": 4,
 "nbformat_minor": 5
}
