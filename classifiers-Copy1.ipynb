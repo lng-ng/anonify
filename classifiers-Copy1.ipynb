{
 "cells": [
  {
   "cell_type": "code",
   "execution_count": 1,
   "id": "bb66b661-bb51-4372-97c5-ec70540039f8",
   "metadata": {},
   "outputs": [],
   "source": [
    "import pandas as pd\n",
    "import os\n",
    "import numpy as np\n",
    "from sklearn.metrics import accuracy_score, f1_score, precision_score, recall_score, classification_report, confusion_matrix\n",
    "from sklearn.model_selection import train_test_split\n",
    "from sklearn.naive_bayes import GaussianNB\n",
    "from sklearn import tree\n",
    "from sklearn.neighbors import KNeighborsClassifier\n",
    "from sklearn import svm\n",
    "from sklearn.linear_model import LogisticRegression\n",
    "from sklearn.ensemble import AdaBoostClassifier, GradientBoostingClassifier, BaggingClassifier, RandomForestClassifier\n",
    "\n",
    "from random_sampling import random_deletion\n",
    "import tqdm"
   ]
  },
  {
   "cell_type": "code",
   "execution_count": 2,
   "id": "0f24b87f-21f5-4b60-bc11-bc82921395d4",
   "metadata": {},
   "outputs": [],
   "source": [
    "SA_NAMES = ['hypertension', 'heart_disease', 'smoking_history', 'HbA1c_level', 'blood_glucose_level', 'diabetes']\n",
    "QID_NAMES = ['gender', 'age', 'bmi']"
   ]
  },
  {
   "cell_type": "code",
   "execution_count": 3,
   "id": "43c1be3f-6e03-41fb-8cac-586527d28d1e",
   "metadata": {},
   "outputs": [],
   "source": [
    "def interval_transform(x):\n",
    "    try:\n",
    "        return float(x)\n",
    "    except ValueError:\n",
    "        if x == '*': return 0\n",
    "        interval_vals = x.split('-')\n",
    "        return (float(interval_vals[0]) + float(interval_vals[1])) * 0.5\n",
    "        \n",
    "def get_metrics(y_test, y_pred):\n",
    "    f1 = f1_score(y_test, y_pred, average=\"weighted\")*100\n",
    "    prec = precision_score(y_test, y_pred, average=\"weighted\")*100\n",
    "    rec = recall_score(y_test, y_pred, average=\"weighted\")*100\n",
    "    acc = accuracy_score(y_test, y_pred)*100\n",
    "    return acc, prec, rec, f1"
   ]
  },
  {
   "cell_type": "code",
   "execution_count": 4,
   "id": "2a414397-d259-4b52-ba74-f2ba2a346408",
   "metadata": {},
   "outputs": [],
   "source": [
    "def eval_classifiers(df, test_size, seed):\n",
    "    # Label Encode\n",
    "    gender_encoder = [['Female','Male','*','Other'], np.arange(4)]\n",
    "    smoking_encoder = [['never','No Info','current','not current','ever','former'], np.arange(6)]\n",
    "    df['gender'] = df['gender'].replace(gender_encoder[0], gender_encoder[1])\n",
    "    df['smoking_history'] = df['smoking_history'].replace(smoking_encoder[0], smoking_encoder[1])\n",
    "    numerical_encode = ['age','bmi']\n",
    "    for attr in numerical_encode:\n",
    "        df[attr] = df[attr].apply(interval_transform)\n",
    "\n",
    "    # Split Train/Test\n",
    "    x = df.drop(columns=['diabetes'])\n",
    "    y = df['diabetes']\n",
    "    x_train, x_test, y_train, y_test = train_test_split(x,y, test_size=test_size, random_state=seed)\n",
    "    res_df = pd.DataFrame(columns=['Accuracy', 'Precision', 'Recall', 'F1 Score'])\n",
    "\n",
    "    # Naive Bayes\n",
    "    gnb = GaussianNB()\n",
    "    y_pred = gnb.fit(x_train, y_train).predict(x_test)\n",
    "    res_df.loc['Naive Bayes'] = get_metrics(y_test, y_pred)\n",
    "    \n",
    "    # Decision Tree\n",
    "    clftree = tree.DecisionTreeClassifier()\n",
    "    y_pred = clftree.fit(x_train,y_train).predict(x_test)\n",
    "    res_df.loc['Decision Tree'] = get_metrics(y_test, y_pred)\n",
    "    \n",
    "    # KNN    \n",
    "    knn = KNeighborsClassifier(n_neighbors = 5)\n",
    "    y_pred = knn.fit(x_train,y_train).predict(x_test)\n",
    "    res_df.loc['KNN'] = get_metrics(y_test, y_pred)\n",
    "    \n",
    "    # SVM\n",
    "    #rbf kernel\n",
    "    rbfsvm = svm.SVC(kernel = \"rbf\")\n",
    "    y_pred = rbfsvm.fit(x_train,y_train).predict(x_test)\n",
    "    res_df.loc['SVM'] = get_metrics(y_test, y_pred)\n",
    "    \n",
    "    # RF\n",
    "    rftree=RandomForestClassifier(n_estimators=100)\n",
    "    y_pred = rftree.fit(x_train,y_train).predict(x_test)\n",
    "    res_df.loc['Random Forest'] = get_metrics(y_test, y_pred)\n",
    "    \n",
    "    # LR\n",
    "    logReg = LogisticRegression(max_iter=25)\n",
    "    y_pred = logReg.fit(x_train,y_train).predict(x_test)\n",
    "    res_df.loc['Logistic Regression'] = get_metrics(y_test, y_pred)\n",
    "    \n",
    "    # AdaBoost\n",
    "    adaboost= AdaBoostClassifier()\n",
    "    y_pred = adaboost.fit(x_train,y_train).predict(x_test)\n",
    "    res_df.loc['AdaBoost'] = get_metrics(y_test, y_pred)\n",
    "    \n",
    "    # Bagging\n",
    "    bg = BaggingClassifier()\n",
    "    y_pred = bg.fit(x_train,y_train).predict(x_test)\n",
    "    res_df.loc['Bagging'] = get_metrics(y_test, y_pred)\n",
    "\n",
    "    return res_df"
   ]
  },
  {
   "cell_type": "code",
   "execution_count": 5,
   "id": "237176e7-e06b-4820-a39e-089a1e6b8c50",
   "metadata": {},
   "outputs": [],
   "source": [
    "#load_path = os.path.join('kanonymity', 'results_part1_260923', 'arx', '250', 'diabetes-anonymized.csv')\n",
    "#load_path = os.path.join('kanonymity','datasets','diabetes','preprocessed_diabetes.csv')\n",
    "k = 50\n",
    "p = 0\n",
    "# load_path = os.path.join('all_results', 'raw_data', f'k{k}', f'{p}', f'diabetes-anonymized.csv')\n",
    "# save_path = os.path.join('all_results', 'raw_data', 'classifiers_raw', f'k{k}', f'{p}',f'diabetes-anonymized_classifiers.csv')\n",
    "load_path1 = os.path.join('datasets', 'diabetes_anonymized_arx250.csv')\n",
    "load_path2 = os.path.join('datasets', 'preprocessed_diabetes.csv')\n",
    "dfo = pd.read_csv(load_path1)\n",
    "dfo = dfo.drop(columns='RID')\n",
    "df = pd.read_csv(load_path2)\n",
    "df = df.drop(columns='RID')\n",
    "\n",
    "test_size = 0.25 # Split train/test 75/25\n",
    "seed = 35"
   ]
  },
  {
   "cell_type": "code",
   "execution_count": 6,
   "id": "4e8f598e-85ca-4f66-878d-f15d8b8011d4",
   "metadata": {},
   "outputs": [],
   "source": [
    "accuracy = pd.DataFrame()\n",
    "recall = pd.DataFrame()\n",
    "precision = pd.DataFrame()\n",
    "f1 = pd.DataFrame()\n",
    "metrics = {\n",
    "    'Accuracy': pd.DataFrame(),\n",
    "    'Recall': pd.DataFrame(),\n",
    "    'Precision': pd.DataFrame(),\n",
    "    'F1 Score': pd.DataFrame(),\n",
    "}"
   ]
  },
  {
   "cell_type": "code",
   "execution_count": null,
   "id": "8fc45a5d-19b2-4416-9a82-1a13402b6cf5",
   "metadata": {},
   "outputs": [
    {
     "name": "stderr",
     "output_type": "stream",
     "text": [
      "G:\\miniconda3\\envs\\tk\\Lib\\site-packages\\sklearn\\linear_model\\_logistic.py:460: ConvergenceWarning: lbfgs failed to converge (status=1):\n",
      "STOP: TOTAL NO. of ITERATIONS REACHED LIMIT.\n",
      "\n",
      "Increase the number of iterations (max_iter) or scale the data as shown in:\n",
      "    https://scikit-learn.org/stable/modules/preprocessing.html\n",
      "Please also refer to the documentation for alternative solver options:\n",
      "    https://scikit-learn.org/stable/modules/linear_model.html#logistic-regression\n",
      "  n_iter_i = _check_optimize_result(\n",
      "G:\\miniconda3\\envs\\tk\\Lib\\site-packages\\sklearn\\linear_model\\_logistic.py:460: ConvergenceWarning: lbfgs failed to converge (status=1):\n",
      "STOP: TOTAL NO. of ITERATIONS REACHED LIMIT.\n",
      "\n",
      "Increase the number of iterations (max_iter) or scale the data as shown in:\n",
      "    https://scikit-learn.org/stable/modules/preprocessing.html\n",
      "Please also refer to the documentation for alternative solver options:\n",
      "    https://scikit-learn.org/stable/modules/linear_model.html#logistic-regression\n",
      "  n_iter_i = _check_optimize_result(\n"
     ]
    },
    {
     "name": "stdout",
     "output_type": "stream",
     "text": [
      "--Sampling the dataset 10 times--\n"
     ]
    },
    {
     "name": "stderr",
     "output_type": "stream",
     "text": [
      "  0%|                                                                                           | 0/10 [00:00<?, ?it/s]G:\\miniconda3\\envs\\tk\\Lib\\site-packages\\sklearn\\linear_model\\_logistic.py:460: ConvergenceWarning: lbfgs failed to converge (status=1):\n",
      "STOP: TOTAL NO. of ITERATIONS REACHED LIMIT.\n",
      "\n",
      "Increase the number of iterations (max_iter) or scale the data as shown in:\n",
      "    https://scikit-learn.org/stable/modules/preprocessing.html\n",
      "Please also refer to the documentation for alternative solver options:\n",
      "    https://scikit-learn.org/stable/modules/linear_model.html#logistic-regression\n",
      "  n_iter_i = _check_optimize_result(\n",
      " 10%|████████▏                                                                         | 1/10 [03:06<27:56, 186.28s/it]G:\\miniconda3\\envs\\tk\\Lib\\site-packages\\sklearn\\linear_model\\_logistic.py:460: ConvergenceWarning: lbfgs failed to converge (status=1):\n",
      "STOP: TOTAL NO. of ITERATIONS REACHED LIMIT.\n",
      "\n",
      "Increase the number of iterations (max_iter) or scale the data as shown in:\n",
      "    https://scikit-learn.org/stable/modules/preprocessing.html\n",
      "Please also refer to the documentation for alternative solver options:\n",
      "    https://scikit-learn.org/stable/modules/linear_model.html#logistic-regression\n",
      "  n_iter_i = _check_optimize_result(\n",
      " 20%|████████████████▍                                                                 | 2/10 [06:10<24:40, 185.06s/it]"
     ]
    }
   ],
   "source": [
    "results = []\n",
    "dfs = {\n",
    "    'Original Dataset': eval_classifiers(dfo, test_size, seed),\n",
    "    'Only K-Anonymity': eval_classifiers(df, test_size, seed)\n",
    "}\n",
    "# Sampling\n",
    "p = 0.5\n",
    "qids = ['gender', 'age', 'bmi']\n",
    "print(\"--Sampling the dataset 10 times--\")\n",
    "for i in tqdm.tqdm(range(10)):\n",
    "    sampled_df = random_deletion(df, p, qids)\n",
    "    dfs[f'Random Deletion {i}'] = eval_classifiers(sampled_df, test_size, seed)"
   ]
  },
  {
   "cell_type": "code",
   "execution_count": null,
   "id": "89d1bdd3-fa04-4c61-a824-5f69e27f89e0",
   "metadata": {},
   "outputs": [],
   "source": [
    "for k, v in dfs.items():\n",
    "    for n, m in metrics.items():\n",
    "        m.insert(0, k, v[n])\n",
    "m['Random Deletion (average)'] = m.iloc[:, 2:].mean(axis=1)"
   ]
  }
 ],
 "metadata": {
  "kernelspec": {
   "display_name": "Python 3 (ipykernel)",
   "language": "python",
   "name": "python3"
  },
  "language_info": {
   "codemirror_mode": {
    "name": "ipython",
    "version": 3
   },
   "file_extension": ".py",
   "mimetype": "text/x-python",
   "name": "python",
   "nbconvert_exporter": "python",
   "pygments_lexer": "ipython3",
   "version": "3.11.4"
  }
 },
 "nbformat": 4,
 "nbformat_minor": 5
}
