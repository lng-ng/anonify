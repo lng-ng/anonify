{
 "cells": [
  {
   "cell_type": "code",
   "execution_count": 1,
   "id": "739d6603-2682-4f46-8432-90a3f9b957a3",
   "metadata": {},
   "outputs": [],
   "source": [
    "%load_ext autoreload\n",
    "%autoreload 2"
   ]
  },
  {
   "cell_type": "code",
   "execution_count": 2,
   "id": "4e0d8273-5ade-4dee-8d8f-ce46c9b03124",
   "metadata": {},
   "outputs": [],
   "source": [
    "import os\n",
    "data_folder = 'expr_data'"
   ]
  },
  {
   "cell_type": "code",
   "execution_count": 3,
   "id": "b799ed2d-5b88-4f44-afc8-4b6f3eefacda",
   "metadata": {},
   "outputs": [],
   "source": [
    "import time\n",
    "t = time.time()"
   ]
  },
  {
   "cell_type": "markdown",
   "id": "a2d05d24-a76c-4934-b4b7-882576434e69",
   "metadata": {},
   "source": [
    "## Environment Setup (for Colab)"
   ]
  },
  {
   "cell_type": "code",
   "execution_count": null,
   "id": "61db7bd0-60ec-4233-bbaf-8b9e60fcb2c0",
   "metadata": {},
   "outputs": [],
   "source": [
    "from datetime import datetime\n",
    "\n",
    "os.chdir('/content')\n",
    "current_time = datetime.utcnow().isoformat().replace(':', '_')\n",
    "os.makedirs(os.path.join(current_time))\n",
    "os.chdir(f'./{current_time}')\n",
    "WORKSPACE = 'anonify'\n",
    "\n",
    "!git clone https://github.com/lng-ng/anonify.git\n",
    "\n",
    "os.chdir(f'./{WORKSPACE}')\n",
    "\n",
    "!pip install bigtree"
   ]
  },
  {
   "cell_type": "markdown",
   "id": "d8352dcb-fedb-4d87-bca8-156b85b15572",
   "metadata": {},
   "source": [
    "## Run the experiment"
   ]
  },
  {
   "cell_type": "code",
   "execution_count": 4,
   "id": "358daecb-4d1b-4f4c-8b49-ac119161c26d",
   "metadata": {},
   "outputs": [],
   "source": [
    "import numpy as np\n",
    "import pandas as pd\n",
    "import os\n",
    "import tqdm\n",
    "import matplotlib.pyplot as plt\n",
    "from datetime import datetime\n",
    "from stratified_sampling import random_deletion"
   ]
  },
  {
   "cell_type": "code",
   "execution_count": 5,
   "id": "215b8257-c5ed-4a55-8061-ad3601ccd8f8",
   "metadata": {},
   "outputs": [],
   "source": [
    "SA_NAMES = ['hypertension', 'heart_disease', 'smoking_history', 'HbA1c_level', 'blood_glucose_level', 'diabetes']\n",
    "QID_NAMES = ['gender', 'age', 'bmi']\n",
    "# Load dataset\n",
    "load_path = os.path.join(data_folder, 'diabetes_anonymized_arx250.csv')\n",
    "df = pd.read_csv(load_path)"
   ]
  },
  {
   "cell_type": "code",
   "execution_count": 6,
   "id": "a55801c5-8666-4bdf-80d8-b58ba4d7f9ea",
   "metadata": {},
   "outputs": [
    {
     "name": "stdout",
     "output_type": "stream",
     "text": [
      "Sampling the dataset, p=0.1\n"
     ]
    },
    {
     "name": "stderr",
     "output_type": "stream",
     "text": [
      "100%|██████████████████████████████████████████████████████████████████████████████████| 10/10 [00:10<00:00,  1.09s/it]\n"
     ]
    },
    {
     "name": "stdout",
     "output_type": "stream",
     "text": [
      "Sampling the dataset, p=0.3\n"
     ]
    },
    {
     "name": "stderr",
     "output_type": "stream",
     "text": [
      "100%|██████████████████████████████████████████████████████████████████████████████████| 10/10 [00:09<00:00,  1.00it/s]\n"
     ]
    },
    {
     "name": "stdout",
     "output_type": "stream",
     "text": [
      "Sampling the dataset, p=0.5\n"
     ]
    },
    {
     "name": "stderr",
     "output_type": "stream",
     "text": [
      "100%|██████████████████████████████████████████████████████████████████████████████████| 10/10 [00:09<00:00,  1.10it/s]\n"
     ]
    },
    {
     "name": "stdout",
     "output_type": "stream",
     "text": [
      "Sampling the dataset, p=0.7\n"
     ]
    },
    {
     "name": "stderr",
     "output_type": "stream",
     "text": [
      "100%|██████████████████████████████████████████████████████████████████████████████████| 10/10 [00:08<00:00,  1.21it/s]\n"
     ]
    }
   ],
   "source": [
    "old_size = df.groupby(QID_NAMES).size()\n",
    "\n",
    "# Risk and certainty calculation for the original, anonymized dataset\n",
    "metrics = [\"AverageRisk%\", \"MinRisk%\", \"MaxRisk%\", \"AverageCertainty%\", \"MinCertainty%\", \"MaxCertainty%\"]\n",
    "res_df = pd.DataFrame()\n",
    "anon_values = [\n",
    "    (len(old_size) / len(df)) * 100, \n",
    "    (1/old_size).min() * 100,\n",
    "    (1/old_size).max() * 100,\n",
    "    100,\n",
    "    100,\n",
    "    100\n",
    "]\n",
    "res_df.insert(0, \"250-Anonymized\", pd.Series(data=anon_values, index=metrics))\n",
    "\n",
    "# Risk and certainty calculation for the sampled datasets at different sampling percentages\n",
    "ps = [0.1, 0.3, 0.5, 0.7]\n",
    "for p in ps:\n",
    "    print(f\"Sampling the dataset, p={p}\")\n",
    "    avg_res = []\n",
    "    for i in tqdm.tqdm(range(10)):\n",
    "        sampled_df = random_deletion(df, p, QID_NAMES)\n",
    "        new_size = sampled_df.groupby(QID_NAMES).size()\n",
    "        tmp = old_size.to_frame(name=\"old_size\")\n",
    "        tmp.insert(1, \"new_size\", new_size)\n",
    "        \n",
    "        avg_risk = ((tmp['new_size'] * 1/tmp['old_size']).sum() / len(df)) * 100\n",
    "        avg_certainty = (tmp['new_size'].sum() / len(df)) * 100\n",
    "        min_risk = 0 if (old_size != new_size).any() else (1/old_size).min() * 100\n",
    "        max_risk = 0 if (new_size == 0).all() else (1/old_size).max() * 100\n",
    "        min_certainty = (tmp['new_size'] / tmp['old_size']).min() * 100\n",
    "        max_certainty = (tmp['new_size'] / tmp['old_size']).max() * 100\n",
    "\n",
    "        avg_res.append([avg_risk, min_risk, max_risk, avg_certainty, min_certainty, max_certainty])\n",
    "        \n",
    "    values = np.asarray(avg_res).mean(axis=0)\n",
    "    res_df.insert(len(res_df.columns), f'{p}-Deletion', pd.Series(data=values, index=metrics))"
   ]
  },
  {
   "cell_type": "code",
   "execution_count": 7,
   "id": "e549b563-8966-4989-b52d-7b43109ce135",
   "metadata": {},
   "outputs": [
    {
     "data": {
      "text/html": [
       "<div>\n",
       "<style scoped>\n",
       "    .dataframe tbody tr th:only-of-type {\n",
       "        vertical-align: middle;\n",
       "    }\n",
       "\n",
       "    .dataframe tbody tr th {\n",
       "        vertical-align: top;\n",
       "    }\n",
       "\n",
       "    .dataframe thead th {\n",
       "        text-align: right;\n",
       "    }\n",
       "</style>\n",
       "<table border=\"1\" class=\"dataframe\">\n",
       "  <thead>\n",
       "    <tr style=\"text-align: right;\">\n",
       "      <th></th>\n",
       "      <th>250-Anonymized</th>\n",
       "      <th>0.1-Deletion</th>\n",
       "      <th>0.3-Deletion</th>\n",
       "      <th>0.5-Deletion</th>\n",
       "      <th>0.7-Deletion</th>\n",
       "    </tr>\n",
       "  </thead>\n",
       "  <tbody>\n",
       "    <tr>\n",
       "      <th>AverageRisk%</th>\n",
       "      <td>0.191000</td>\n",
       "      <td>0.171684</td>\n",
       "      <td>0.133486</td>\n",
       "      <td>0.095365</td>\n",
       "      <td>0.057075</td>\n",
       "    </tr>\n",
       "    <tr>\n",
       "      <th>MinRisk%</th>\n",
       "      <td>0.055006</td>\n",
       "      <td>0.000000</td>\n",
       "      <td>0.000000</td>\n",
       "      <td>0.000000</td>\n",
       "      <td>0.000000</td>\n",
       "    </tr>\n",
       "    <tr>\n",
       "      <th>MaxRisk%</th>\n",
       "      <td>3.448276</td>\n",
       "      <td>3.448276</td>\n",
       "      <td>3.448276</td>\n",
       "      <td>3.448276</td>\n",
       "      <td>3.448276</td>\n",
       "    </tr>\n",
       "    <tr>\n",
       "      <th>AverageCertainty%</th>\n",
       "      <td>100.000000</td>\n",
       "      <td>89.911000</td>\n",
       "      <td>69.914000</td>\n",
       "      <td>49.949000</td>\n",
       "      <td>29.914000</td>\n",
       "    </tr>\n",
       "    <tr>\n",
       "      <th>MinCertainty%</th>\n",
       "      <td>100.000000</td>\n",
       "      <td>89.641434</td>\n",
       "      <td>68.965517</td>\n",
       "      <td>48.275862</td>\n",
       "      <td>27.586207</td>\n",
       "    </tr>\n",
       "    <tr>\n",
       "      <th>MaxCertainty%</th>\n",
       "      <td>100.000000</td>\n",
       "      <td>90.000000</td>\n",
       "      <td>70.000000</td>\n",
       "      <td>50.000000</td>\n",
       "      <td>30.000000</td>\n",
       "    </tr>\n",
       "  </tbody>\n",
       "</table>\n",
       "</div>"
      ],
      "text/plain": [
       "                   250-Anonymized  0.1-Deletion  0.3-Deletion  0.5-Deletion  \\\n",
       "AverageRisk%             0.191000      0.171684      0.133486      0.095365   \n",
       "MinRisk%                 0.055006      0.000000      0.000000      0.000000   \n",
       "MaxRisk%                 3.448276      3.448276      3.448276      3.448276   \n",
       "AverageCertainty%      100.000000     89.911000     69.914000     49.949000   \n",
       "MinCertainty%          100.000000     89.641434     68.965517     48.275862   \n",
       "MaxCertainty%          100.000000     90.000000     70.000000     50.000000   \n",
       "\n",
       "                   0.7-Deletion  \n",
       "AverageRisk%           0.057075  \n",
       "MinRisk%               0.000000  \n",
       "MaxRisk%               3.448276  \n",
       "AverageCertainty%     29.914000  \n",
       "MinCertainty%         27.586207  \n",
       "MaxCertainty%         30.000000  "
      ]
     },
     "execution_count": 7,
     "metadata": {},
     "output_type": "execute_result"
    }
   ],
   "source": [
    "res_df"
   ]
  },
  {
   "cell_type": "markdown",
   "id": "4ed90501-2d28-4322-bd1b-4151f3675475",
   "metadata": {},
   "source": [
    "### Figure 11: Journalist risk (𝑘=250)."
   ]
  },
  {
   "cell_type": "code",
   "execution_count": 8,
   "id": "2e1f529f-0a6b-4af4-86c6-9d546bd2a048",
   "metadata": {},
   "outputs": [
    {
     "data": {
      "image/png": "[encoded data removed]",
      "text/plain": [
       "<Figure size 800x600 with 1 Axes>"
      ]
     },
     "metadata": {},
     "output_type": "display_data"
    }
   ],
   "source": [
    "# Data\n",
    "categories = ['Anonymized', 'Sampling90%', 'Sampling70%', 'Sampling50%', 'Sampling30%']\n",
    "\n",
    "Anonymized = res_df['250-Anonymized'][:3]\n",
    "Deletion10 = res_df['0.1-Deletion'][:3]\n",
    "Deletion30 = res_df['0.3-Deletion'][:3]\n",
    "Deletion50 = res_df['0.5-Deletion'][:3]\n",
    "Deletion70 = res_df['0.7-Deletion'][:3]\n",
    "\n",
    "# Create a boxplot\n",
    "plt.figure(figsize=(8, 6))\n",
    "plt.boxplot([Anonymized, Deletion10, Deletion30, Deletion50, Deletion70], labels=['Anonymized', 'Sampling90%', 'Sampling70%', 'Sampling50%', 'Sampling30%'])\n",
    "#plt.title('')\n",
    "#plt.xlabel('Categories')\n",
    "plt.ylabel('Journalist risk', fontsize=12)\n",
    "plt.xticks(fontsize=12)\n",
    "plt.yticks(fontsize=12)\n",
    "plt.ylim(0, 4)\n",
    "# Show the plot\n",
    "plt.grid(True)\n",
    "plt.show()\n"
   ]
  },
  {
   "cell_type": "markdown",
   "id": "e194f70e-8af7-4435-b202-8f25545af0c0",
   "metadata": {},
   "source": [
    "### Figure 12: Certainty (𝑘=250)."
   ]
  },
  {
   "cell_type": "code",
   "execution_count": 9,
   "id": "63b56d31-4cbf-4c24-9819-bd438da7dc0b",
   "metadata": {},
   "outputs": [
    {
     "data": {
      "image/png": "[encoded data removed]",
      "text/plain": [
       "<Figure size 800x600 with 1 Axes>"
      ]
     },
     "metadata": {},
     "output_type": "display_data"
    }
   ],
   "source": [
    "# Data\n",
    "categories = ['Anonymized', 'Sampling90%', 'Sampling70%', 'Sampling50%', 'Sampling30%']\n",
    "\n",
    "Anonymized  = res_df['250-Anonymized'][3:]   \n",
    "Deletion10  = res_df['0.1-Deletion'][3:]   \n",
    "Deletion30  = res_df['0.3-Deletion'][3:]   \n",
    "Deletion50  = res_df['0.5-Deletion'][3:]   \n",
    "Deletion70  = res_df['0.7-Deletion'][3:]   \n",
    "\n",
    "# Create a boxplot\n",
    "plt.figure(figsize=(8, 6))\n",
    "plt.boxplot([Anonymized, Deletion10, Deletion30, Deletion50, Deletion70], labels=['Anonymized', 'Sampling90%', 'Sampling70%', 'Sampling50%', 'Sampling30%'])\n",
    "#plt.title('')\n",
    "#plt.xlabel('Categories')\n",
    "plt.ylabel('Certainty', fontsize=12)\n",
    "\n",
    "plt.xticks(fontsize=12)\n",
    "plt.yticks(fontsize=12)\n",
    "\n",
    "#plt.ylim(0, 4)\n",
    "# Show the plot\n",
    "plt.grid(True)\n",
    "plt.show()"
   ]
  },
  {
   "cell_type": "code",
   "execution_count": 10,
   "id": "dd32d0a3-4242-420c-af08-5607e59c24b1",
   "metadata": {},
   "outputs": [],
   "source": [
    "# cleanup data folder\n",
    "#import shutil\n",
    "#shutil.rmtree(data_folder)"
   ]
  },
  {
   "cell_type": "code",
   "execution_count": 11,
   "id": "b7375644-595e-4de4-b860-64e4b8647945",
   "metadata": {},
   "outputs": [
    {
     "name": "stdout",
     "output_type": "stream",
     "text": [
      "Time taken: 44.169692516326904\n"
     ]
    }
   ],
   "source": [
    "print(f\"Time taken: {time.time() - t}\")"
   ]
  }
 ],
 "metadata": {
  "kernelspec": {
   "display_name": "Python 3 (ipykernel)",
   "language": "python",
   "name": "python3"
  },
  "language_info": {
   "codemirror_mode": {
    "name": "ipython",
    "version": 3
   },
   "file_extension": ".py",
   "mimetype": "text/x-python",
   "name": "python",
   "nbconvert_exporter": "python",
   "pygments_lexer": "ipython3",
   "version": "3.11.4"
  }
 },
 "nbformat": 4,
 "nbformat_minor": 5
}
